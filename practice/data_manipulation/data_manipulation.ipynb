{
 "cells": [
  {
   "cell_type": "code",
   "id": "initial_id",
   "metadata": {
    "collapsed": true,
    "ExecuteTime": {
     "end_time": "2025-10-22T14:28:12.036332Z",
     "start_time": "2025-10-22T14:28:12.031926Z"
    }
   },
   "source": [
    "import torch\n",
    "\n",
    "from teach.pytorch.chapter_preliminaries.pandas import outputs\n",
    "\n",
    "x = torch.arange(12)\n",
    "print(x)\n",
    "print(x.shape)\n",
    "print(x.numel())"
   ],
   "outputs": [
    {
     "name": "stdout",
     "output_type": "stream",
     "text": [
      "tensor([ 0,  1,  2,  3,  4,  5,  6,  7,  8,  9, 10, 11])\n",
      "torch.Size([12])\n",
      "12\n"
     ]
    }
   ],
   "execution_count": 2
  },
  {
   "metadata": {
    "ExecuteTime": {
     "end_time": "2025-10-22T14:28:51.516523Z",
     "start_time": "2025-10-22T14:28:51.508688Z"
    }
   },
   "cell_type": "code",
   "source": [
    "x = x.reshape(3, 4)\n",
    "print(x)"
   ],
   "id": "674acdf9af691982",
   "outputs": [
    {
     "name": "stdout",
     "output_type": "stream",
     "text": [
      "tensor([[ 0,  1,  2,  3],\n",
      "        [ 4,  5,  6,  7],\n",
      "        [ 8,  9, 10, 11]])\n"
     ]
    }
   ],
   "execution_count": 3
  },
  {
   "metadata": {
    "ExecuteTime": {
     "end_time": "2025-10-22T14:31:20.576489Z",
     "start_time": "2025-10-22T14:31:20.571108Z"
    }
   },
   "cell_type": "code",
   "source": [
    "y = torch.zeros(2, 3, 4)\n",
    "print(y)\n",
    "z = torch.ones(2, 3, 4)\n",
    "print(z)"
   ],
   "id": "247506b8eddafe6",
   "outputs": [
    {
     "name": "stdout",
     "output_type": "stream",
     "text": [
      "tensor([[[0., 0., 0., 0.],\n",
      "         [0., 0., 0., 0.],\n",
      "         [0., 0., 0., 0.]],\n",
      "\n",
      "        [[0., 0., 0., 0.],\n",
      "         [0., 0., 0., 0.],\n",
      "         [0., 0., 0., 0.]]])\n",
      "tensor([[[1., 1., 1., 1.],\n",
      "         [1., 1., 1., 1.],\n",
      "         [1., 1., 1., 1.]],\n",
      "\n",
      "        [[1., 1., 1., 1.],\n",
      "         [1., 1., 1., 1.],\n",
      "         [1., 1., 1., 1.]]])\n"
     ]
    }
   ],
   "execution_count": 5
  },
  {
   "metadata": {
    "ExecuteTime": {
     "end_time": "2025-10-22T14:35:29.826610Z",
     "start_time": "2025-10-22T14:35:29.820806Z"
    }
   },
   "cell_type": "code",
   "source": [
    "a = torch.tensor([[1,2,3,4],[5,6,7,8],[9,10,11,12]])\n",
    "print(a)\n",
    "print(a.shape)\n",
    "print(a.numel())"
   ],
   "id": "d2294b73f0f64c8a",
   "outputs": [
    {
     "name": "stdout",
     "output_type": "stream",
     "text": [
      "tensor([[ 1,  2,  3,  4],\n",
      "        [ 5,  6,  7,  8],\n",
      "        [ 9, 10, 11, 12]])\n",
      "torch.Size([3, 4])\n",
      "12\n"
     ]
    }
   ],
   "execution_count": 9
  },
  {
   "metadata": {
    "ExecuteTime": {
     "end_time": "2025-10-22T14:38:10.761360Z",
     "start_time": "2025-10-22T14:38:10.753578Z"
    }
   },
   "cell_type": "code",
   "source": [
    "b = torch.tensor([1.0, 2, 3, 4])\n",
    "c = torch.tensor([2, 2, 2, 2])\n",
    "print(\"b + c =\", b + c)\n",
    "print(\"b - c =\", b - c)\n",
    "print(\"b * c =\", b * c)\n",
    "print(\"b / c =\", b / c)\n",
    "print(\"b ** c =\", b ** c)"
   ],
   "id": "4953a9cc2fc943d4",
   "outputs": [
    {
     "name": "stdout",
     "output_type": "stream",
     "text": [
      "b + c = tensor([3., 4., 5., 6.])\n",
      "b - c = tensor([-1.,  0.,  1.,  2.])\n",
      "b * c = tensor([2., 4., 6., 8.])\n",
      "b / c = tensor([0.5000, 1.0000, 1.5000, 2.0000])\n",
      "b ** c = tensor([ 1.,  4.,  9., 16.])\n"
     ]
    }
   ],
   "execution_count": 12
  },
  {
   "metadata": {
    "ExecuteTime": {
     "end_time": "2025-10-22T14:42:46.165949Z",
     "start_time": "2025-10-22T14:42:46.157584Z"
    }
   },
   "cell_type": "code",
   "source": [
    "d = torch.arange(12, dtype=torch.float32).reshape(3, 4)\n",
    "e = torch.tensor([[2.0, 0, 1, 3],[4, 2, 0, 1],[1, 5, 2, 0]])\n",
    "print(torch.cat((d, e), dim = 0)) # 在行的维度上拼接\n",
    "print(torch.cat((d, e), dim = 1)) # 在列的维度上拼接\n",
    "print(d == e)\n",
    "print(d.sum())"
   ],
   "id": "5adfbaeccfdf2f27",
   "outputs": [
    {
     "name": "stdout",
     "output_type": "stream",
     "text": [
      "tensor([[ 0.,  1.,  2.,  3.],\n",
      "        [ 4.,  5.,  6.,  7.],\n",
      "        [ 8.,  9., 10., 11.],\n",
      "        [ 2.,  0.,  1.,  3.],\n",
      "        [ 4.,  2.,  0.,  1.],\n",
      "        [ 1.,  5.,  2.,  0.]])\n",
      "tensor([[ 0.,  1.,  2.,  3.,  2.,  0.,  1.,  3.],\n",
      "        [ 4.,  5.,  6.,  7.,  4.,  2.,  0.,  1.],\n",
      "        [ 8.,  9., 10., 11.,  1.,  5.,  2.,  0.]])\n",
      "tensor([[False, False, False,  True],\n",
      "        [ True, False, False, False],\n",
      "        [False, False, False, False]])\n",
      "tensor(66.)\n"
     ]
    }
   ],
   "execution_count": 15
  },
  {
   "metadata": {
    "ExecuteTime": {
     "end_time": "2025-10-22T15:10:44.058471Z",
     "start_time": "2025-10-22T15:10:44.051429Z"
    }
   },
   "cell_type": "code",
   "source": [
    "# 广播机制\n",
    "f = torch.arange(3).reshape(3, 1)\n",
    "g = torch.arange(2).reshape(1, 2)\n",
    "print(\"f =\", f)\n",
    "print(\"g =\", g)\n",
    "print(\"f + g =\", f + g)"
   ],
   "id": "3c3e2bfe0bd01760",
   "outputs": [
    {
     "name": "stdout",
     "output_type": "stream",
     "text": [
      "f = tensor([[0],\n",
      "        [1],\n",
      "        [2]])\n",
      "g = tensor([[0, 1]])\n",
      "f + g = tensor([[0, 1],\n",
      "        [1, 2],\n",
      "        [2, 3]])\n"
     ]
    }
   ],
   "execution_count": 16
  },
  {
   "metadata": {
    "ExecuteTime": {
     "end_time": "2025-10-22T15:15:15.648613Z",
     "start_time": "2025-10-22T15:15:15.642961Z"
    }
   },
   "cell_type": "code",
   "source": [
    "# 访问元素\n",
    "h = torch.arange(12).reshape(3, 4)\n",
    "print(h)\n",
    "print(h[1, 2])      # 访问第2行第3列的元素\n",
    "print(h[:, 1])      # 访问第2列的所有元素\n",
    "print(h[0, :])      # 访问第1行的所有元素\n",
    "print(h[1, :3])     # 访问第2行的前3个元素\n",
    "print(h[ :2, 2])    # 访问前2行的第3列元素\n",
    "print(h[ 1:3, 2])   # 访问第2到第3行的第3列元素\n"
   ],
   "id": "6d4bbb85f8536562",
   "outputs": [
    {
     "name": "stdout",
     "output_type": "stream",
     "text": [
      "tensor([[ 0,  1,  2,  3],\n",
      "        [ 4,  5,  6,  7],\n",
      "        [ 8,  9, 10, 11]])\n",
      "tensor(6)\n",
      "tensor([1, 5, 9])\n",
      "tensor([0, 1, 2, 3])\n",
      "tensor([4, 5, 6])\n",
      "tensor([2, 6])\n",
      "tensor([ 6, 10])\n"
     ]
    }
   ],
   "execution_count": 18
  },
  {
   "metadata": {
    "ExecuteTime": {
     "end_time": "2025-10-22T15:18:32.815924Z",
     "start_time": "2025-10-22T15:18:32.810695Z"
    }
   },
   "cell_type": "code",
   "source": [
    "before = id(h) # 获取变量h的内存地址\n",
    "h = h + 1\n",
    "print(id(h) == before)  # False, 因为进行了重新分配内存"
   ],
   "id": "705675788f0ca032",
   "outputs": [
    {
     "name": "stdout",
     "output_type": "stream",
     "text": [
      "False\n"
     ]
    }
   ],
   "execution_count": 19
  },
  {
   "metadata": {
    "ExecuteTime": {
     "end_time": "2025-10-22T15:20:33.076024Z",
     "start_time": "2025-10-22T15:20:33.069070Z"
    }
   },
   "cell_type": "code",
   "source": [
    "# 原地操作，不会重新分配内存\n",
    "before = id(h)\n",
    "h += 1\n",
    "print(id(h) == before)  # True, 内存地址没有改变\n",
    "\n",
    "f = torch.zeros_like(h)\n",
    "print(\"id f:\", id(f))\n",
    "f[:] = h - 1\n",
    "print(\"id f after slice assignment:\", id(f))  # 内存地址没有改变"
   ],
   "id": "26f82973afddbee2",
   "outputs": [
    {
     "name": "stdout",
     "output_type": "stream",
     "text": [
      "True\n",
      "id f: 4737941648\n",
      "id f after slice assignment: 4737941648\n"
     ]
    }
   ],
   "execution_count": 21
  },
  {
   "metadata": {
    "ExecuteTime": {
     "end_time": "2025-10-22T15:22:36.345421Z",
     "start_time": "2025-10-22T15:22:36.335316Z"
    }
   },
   "cell_type": "code",
   "source": [
    "# 张量与NumPy数组的转换\n",
    "A = f.numpy()\n",
    "B = torch.tensor(A)\n",
    "print(type(A))\n",
    "print(type(B))"
   ],
   "id": "cfd0958809ed10a5",
   "outputs": [
    {
     "name": "stdout",
     "output_type": "stream",
     "text": [
      "<class 'numpy.ndarray'>\n",
      "<class 'torch.Tensor'>\n"
     ]
    }
   ],
   "execution_count": 22
  },
  {
   "metadata": {
    "ExecuteTime": {
     "end_time": "2025-10-22T15:24:03.612014Z",
     "start_time": "2025-10-22T15:24:03.607788Z"
    }
   },
   "cell_type": "code",
   "source": [
    "# 大小为1的张量转换为标量\n",
    "a = torch.tensor([3.5])\n",
    "print(a)\n",
    "print(a.item())\n",
    "print(type(a.item()))\n",
    "print(float(a))\n",
    "print(int(a))"
   ],
   "id": "8aa8542e093293ee",
   "outputs": [
    {
     "name": "stdout",
     "output_type": "stream",
     "text": [
      "tensor([3.5000])\n",
      "3.5\n",
      "<class 'float'>\n",
      "3.5\n",
      "3\n"
     ]
    }
   ],
   "execution_count": 24
  },
  {
   "metadata": {
    "ExecuteTime": {
     "end_time": "2025-10-22T15:30:48.361995Z",
     "start_time": "2025-10-22T15:30:48.355227Z"
    }
   },
   "cell_type": "code",
   "source": [
    "import os\n",
    "os.makedirs(os.path.join(\".\", \"data\"), exist_ok=True) # 创建data文件夹, \"..\"表示上一级目录, 本级目录的话就写\".\"， exist_ok=True表示如果目录已经存在就不报错\n",
    "data_file = os.path.join(\".\", \"data\", \"house_tiny.csv\") # 拼接路径\n",
    "with open(data_file, \"w\") as ff: # 写入数据, w表示写入模式,会覆盖原有内容\n",
    "    ff.write(\"NumRooms,Alley,Price\\n\") # 写入表头\n",
    "    ff.write(\"NA,Pave,127500\\n\")\n",
    "    ff.write(\"2,NA,106000\\n\")\n",
    "    ff.write(\"4,NA,178100\\n\")\n",
    "    ff.write(\"3,NA,140000\\n\")"
   ],
   "id": "35ab00f28bfbab7f",
   "outputs": [],
   "execution_count": 25
  },
  {
   "metadata": {
    "ExecuteTime": {
     "end_time": "2025-10-22T15:38:21.980742Z",
     "start_time": "2025-10-22T15:38:21.970806Z"
    }
   },
   "cell_type": "code",
   "source": [
    "import pandas as pd\n",
    "data = pd.read_csv(data_file)\n",
    "data"
   ],
   "id": "522009feae033b18",
   "outputs": [
    {
     "data": {
      "text/plain": [
       "   NumRooms Alley   Price\n",
       "0       NaN  Pave  127500\n",
       "1       2.0   NaN  106000\n",
       "2       4.0   NaN  178100\n",
       "3       3.0   NaN  140000"
      ],
      "text/html": [
       "<div>\n",
       "<style scoped>\n",
       "    .dataframe tbody tr th:only-of-type {\n",
       "        vertical-align: middle;\n",
       "    }\n",
       "\n",
       "    .dataframe tbody tr th {\n",
       "        vertical-align: top;\n",
       "    }\n",
       "\n",
       "    .dataframe thead th {\n",
       "        text-align: right;\n",
       "    }\n",
       "</style>\n",
       "<table border=\"1\" class=\"dataframe\">\n",
       "  <thead>\n",
       "    <tr style=\"text-align: right;\">\n",
       "      <th></th>\n",
       "      <th>NumRooms</th>\n",
       "      <th>Alley</th>\n",
       "      <th>Price</th>\n",
       "    </tr>\n",
       "  </thead>\n",
       "  <tbody>\n",
       "    <tr>\n",
       "      <th>0</th>\n",
       "      <td>NaN</td>\n",
       "      <td>Pave</td>\n",
       "      <td>127500</td>\n",
       "    </tr>\n",
       "    <tr>\n",
       "      <th>1</th>\n",
       "      <td>2.0</td>\n",
       "      <td>NaN</td>\n",
       "      <td>106000</td>\n",
       "    </tr>\n",
       "    <tr>\n",
       "      <th>2</th>\n",
       "      <td>4.0</td>\n",
       "      <td>NaN</td>\n",
       "      <td>178100</td>\n",
       "    </tr>\n",
       "    <tr>\n",
       "      <th>3</th>\n",
       "      <td>3.0</td>\n",
       "      <td>NaN</td>\n",
       "      <td>140000</td>\n",
       "    </tr>\n",
       "  </tbody>\n",
       "</table>\n",
       "</div>"
      ]
     },
     "execution_count": 28,
     "metadata": {},
     "output_type": "execute_result"
    }
   ],
   "execution_count": 28
  },
  {
   "metadata": {
    "ExecuteTime": {
     "end_time": "2025-10-22T15:49:20.806426Z",
     "start_time": "2025-10-22T15:49:20.795867Z"
    }
   },
   "cell_type": "code",
   "source": [
    "inputs = data.iloc[:, 0:2] # 选择行：所有行，列：第0列到第1列（不包括第2列）\n",
    "outputs = data.iloc[:, 2]  # 选择行：所有行，列：第2列\n",
    "print(inputs)\n",
    "print(type(inputs))\n",
    "print(outputs)\n",
    "print(type(outputs))\n",
    "inputs = inputs.fillna(inputs.mean(numeric_only = 1))  # 用均值填充缺失值, numeric_only=1表示只计算数值型列的均值\n",
    "print(inputs)"
   ],
   "id": "95a478d92dffe88c",
   "outputs": [
    {
     "name": "stdout",
     "output_type": "stream",
     "text": [
      "   NumRooms Alley\n",
      "0       NaN  Pave\n",
      "1       2.0   NaN\n",
      "2       4.0   NaN\n",
      "3       3.0   NaN\n",
      "<class 'pandas.core.frame.DataFrame'>\n",
      "0    127500\n",
      "1    106000\n",
      "2    178100\n",
      "3    140000\n",
      "Name: Price, dtype: int64\n",
      "<class 'pandas.core.series.Series'>\n",
      "   NumRooms Alley\n",
      "0       3.0  Pave\n",
      "1       2.0   NaN\n",
      "2       4.0   NaN\n",
      "3       3.0   NaN\n"
     ]
    }
   ],
   "execution_count": 48
  },
  {
   "metadata": {
    "ExecuteTime": {
     "end_time": "2025-10-22T15:49:24.239264Z",
     "start_time": "2025-10-22T15:49:24.231086Z"
    }
   },
   "cell_type": "code",
   "source": [
    "inputs = pd.get_dummies(inputs, dummy_na = True, dtype = int) # 将分类变量转换为独热编码, dummy_na=True表示将缺失值也作为一个类别\n",
    "print(inputs)"
   ],
   "id": "bfa09a46ea34df47",
   "outputs": [
    {
     "name": "stdout",
     "output_type": "stream",
     "text": [
      "   NumRooms  Alley_Pave  Alley_nan\n",
      "0       3.0           1          0\n",
      "1       2.0           0          1\n",
      "2       4.0           0          1\n",
      "3       3.0           0          1\n"
     ]
    }
   ],
   "execution_count": 49
  },
  {
   "metadata": {
    "ExecuteTime": {
     "end_time": "2025-10-22T15:50:51.717576Z",
     "start_time": "2025-10-22T15:50:51.708506Z"
    }
   },
   "cell_type": "code",
   "source": [
    "ii = torch.tensor(inputs.values)\n",
    "oo = torch.tensor(outputs.values)\n",
    "ii,oo"
   ],
   "id": "941614dfe42ce879",
   "outputs": [
    {
     "data": {
      "text/plain": [
       "(tensor([[3., 1., 0.],\n",
       "         [2., 0., 1.],\n",
       "         [4., 0., 1.],\n",
       "         [3., 0., 1.]], dtype=torch.float64),\n",
       " tensor([127500, 106000, 178100, 140000]))"
      ]
     },
     "execution_count": 52,
     "metadata": {},
     "output_type": "execute_result"
    }
   ],
   "execution_count": 52
  },
  {
   "metadata": {
    "ExecuteTime": {
     "end_time": "2025-10-23T14:58:18.188377Z",
     "start_time": "2025-10-23T14:58:18.180634Z"
    }
   },
   "cell_type": "code",
   "source": [
    "import torch\n",
    "aa = torch.tensor([[1,2,3,4],[5,6,7,8],[9,10,11,12]])\n",
    "print(aa)\n",
    "bb = torch.sum(aa, dim = 1) # 按行求和\n",
    "print(bb)\n",
    "cc = bb.view(-1, 1) # 转换为列向量, -1表示自动计算该维度的大小\n",
    "print(cc)"
   ],
   "id": "49223c38635c18ce",
   "outputs": [
    {
     "name": "stdout",
     "output_type": "stream",
     "text": [
      "tensor([[ 1,  2,  3,  4],\n",
      "        [ 5,  6,  7,  8],\n",
      "        [ 9, 10, 11, 12]])\n",
      "tensor([10, 26, 42])\n",
      "tensor([[10],\n",
      "        [26],\n",
      "        [42]])\n"
     ]
    }
   ],
   "execution_count": 20
  }
 ],
 "metadata": {
  "kernelspec": {
   "display_name": "Python 3",
   "language": "python",
   "name": "python3"
  },
  "language_info": {
   "codemirror_mode": {
    "name": "ipython",
    "version": 2
   },
   "file_extension": ".py",
   "mimetype": "text/x-python",
   "name": "python",
   "nbconvert_exporter": "python",
   "pygments_lexer": "ipython2",
   "version": "2.7.6"
  }
 },
 "nbformat": 4,
 "nbformat_minor": 5
}
