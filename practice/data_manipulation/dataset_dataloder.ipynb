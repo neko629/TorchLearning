{
 "cells": [
  {
   "cell_type": "code",
   "id": "initial_id",
   "metadata": {
    "collapsed": true,
    "ExecuteTime": {
     "end_time": "2025-10-30T14:40:34.013837Z",
     "start_time": "2025-10-30T14:40:33.990777Z"
    }
   },
   "source": [
    "import torch\n",
    "from torch.utils.data import TensorDataset, DataLoader, random_split\n",
    "x = torch.arange(0, 100, 1) # 创建一个一维张量，包含0到99的整数，作为训练样本特征\n",
    "y = torch.arange(101, 201, 1) # 创建一个一维张量，包含101到200的整数，作为验证样本标签\n",
    "# TensorDataset 将特征和标签组合成一个数据集\n",
    "dataset = TensorDataset(x, y)\n",
    "train_dataset, val_dataset = random_split(dataset, [80, 20]) # 将数据集随机拆分为训练集和验证集，比例为80:20\n",
    "\n",
    "# 放进 DataLoader 以便后续按批次读取数据\n",
    "train_dataloader = DataLoader(train_dataset, batch_size=5, shuffle=True) # 每次读取16个样本，且每个epoch打乱数据顺序\n",
    "val_dataset = DataLoader(val_dataset, batch_size=16, shuffle=True) # 每次读取16个样本，且每个epoch打乱数据顺序\n",
    "for batch in train_dataloader:\n",
    "    inputs, targets = batch\n",
    "    print('输入:', inputs)\n",
    "    print('目标:', targets)\n",
    "    break  # 只打印第一个批次"
   ],
   "outputs": [
    {
     "name": "stdout",
     "output_type": "stream",
     "text": [
      "输入: tensor([60, 34,  3, 69,  4])\n",
      "目标: tensor([161, 135, 104, 170, 105])\n"
     ]
    }
   ],
   "execution_count": 3
  }
 ],
 "metadata": {
  "kernelspec": {
   "display_name": "Python 3",
   "language": "python",
   "name": "python3"
  },
  "language_info": {
   "codemirror_mode": {
    "name": "ipython",
    "version": 2
   },
   "file_extension": ".py",
   "mimetype": "text/x-python",
   "name": "python",
   "nbconvert_exporter": "python",
   "pygments_lexer": "ipython2",
   "version": "2.7.6"
  }
 },
 "nbformat": 4,
 "nbformat_minor": 5
}
