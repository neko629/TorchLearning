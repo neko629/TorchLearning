{
 "cells": [
  {
   "cell_type": "code",
   "id": "initial_id",
   "metadata": {
    "collapsed": true,
    "ExecuteTime": {
     "end_time": "2025-10-23T13:33:17.959025Z",
     "start_time": "2025-10-23T13:33:15.449553Z"
    }
   },
   "source": [
    "# 自动求导\n",
    "import torch\n",
    "x = torch.arange(4.0) # 创建一个一维张量，包含4个元素，数据类型为float32\n",
    "x"
   ],
   "outputs": [
    {
     "data": {
      "text/plain": [
       "tensor([0., 1., 2., 3.])"
      ]
     },
     "execution_count": 1,
     "metadata": {},
     "output_type": "execute_result"
    }
   ],
   "execution_count": 1
  },
  {
   "metadata": {
    "ExecuteTime": {
     "end_time": "2025-10-23T13:35:55.313462Z",
     "start_time": "2025-10-23T13:35:55.302777Z"
    }
   },
   "cell_type": "code",
   "source": [
    "# 要计算 y 关于 x 的梯度之前，需要有个地方存储梯度信息\n",
    "x.requires_grad_(True) # 设置 x 以便进行梯度计算\n",
    "x.grad"
   ],
   "id": "aba2956731d27e39",
   "outputs": [],
   "execution_count": 2
  },
  {
   "metadata": {
    "ExecuteTime": {
     "end_time": "2025-10-23T13:37:13.679497Z",
     "start_time": "2025-10-23T13:37:13.664262Z"
    }
   },
   "cell_type": "code",
   "source": [
    "y = 2 * torch.dot(x, x)  # dot 函数计算两个张量的点积\n",
    "y"
   ],
   "id": "eb4450800f808609",
   "outputs": [
    {
     "data": {
      "text/plain": [
       "tensor(28., grad_fn=<MulBackward0>)"
      ]
     },
     "execution_count": 3,
     "metadata": {},
     "output_type": "execute_result"
    }
   ],
   "execution_count": 3
  },
  {
   "metadata": {
    "ExecuteTime": {
     "end_time": "2025-10-23T13:38:25.467628Z",
     "start_time": "2025-10-23T13:38:25.402216Z"
    }
   },
   "cell_type": "code",
   "source": [
    "# 通过反向传播函数来自动计算 y 关于 x 的每个分量的梯度\n",
    "y.backward()\n",
    "x.grad"
   ],
   "id": "961acfa6d8334ea1",
   "outputs": [
    {
     "data": {
      "text/plain": [
       "tensor([ 0.,  4.,  8., 12.])"
      ]
     },
     "execution_count": 4,
     "metadata": {},
     "output_type": "execute_result"
    }
   ],
   "execution_count": 4
  },
  {
   "metadata": {
    "ExecuteTime": {
     "end_time": "2025-10-23T13:39:39.894807Z",
     "start_time": "2025-10-23T13:39:39.886891Z"
    }
   },
   "cell_type": "code",
   "source": "x.grad == 4 * x",
   "id": "de1ce91bcc236101",
   "outputs": [
    {
     "data": {
      "text/plain": [
       "tensor([True, True, True, True])"
      ]
     },
     "execution_count": 5,
     "metadata": {},
     "output_type": "execute_result"
    }
   ],
   "execution_count": 5
  },
  {
   "metadata": {
    "ExecuteTime": {
     "end_time": "2025-10-23T13:41:32.528103Z",
     "start_time": "2025-10-23T13:41:32.515834Z"
    }
   },
   "cell_type": "code",
   "source": [
    "# 默认情况下，pytorch 会累积梯度，需要清除\n",
    "x.grad.zero_()\n",
    "y = x.sum()\n",
    "y.backward()\n",
    "x.grad"
   ],
   "id": "ca79dc70f6652d19",
   "outputs": [
    {
     "data": {
      "text/plain": [
       "tensor([1., 1., 1., 1.])"
      ]
     },
     "execution_count": 6,
     "metadata": {},
     "output_type": "execute_result"
    }
   ],
   "execution_count": 6
  },
  {
   "metadata": {
    "ExecuteTime": {
     "end_time": "2025-10-23T13:43:57.996938Z",
     "start_time": "2025-10-23T13:43:57.989267Z"
    }
   },
   "cell_type": "code",
   "source": [
    "# 对于非标量变量，需要传入一个 gradient 参数\n",
    "x.grad.zero_()\n",
    "y = x * x\n",
    "y.sum().backward()\n",
    "x.grad"
   ],
   "id": "d5a99a5737a2a2e3",
   "outputs": [
    {
     "data": {
      "text/plain": [
       "tensor([0., 2., 4., 6.])"
      ]
     },
     "execution_count": 7,
     "metadata": {},
     "output_type": "execute_result"
    }
   ],
   "execution_count": 7
  },
  {
   "metadata": {},
   "cell_type": "markdown",
   "source": [
    "### detach 方法\n",
    "```\n",
    "在设置了 requires_grad=True 后，PyTorch 会跟踪该张量（x）被执行的操作\n",
    "比如 y = x * 2，时，PyTorch 会记住 “y 是 x 乘以 2 得来的”\n",
    "调用 backward 时，PyTorch 会根据这些操作反向传播计算梯度\n",
    "\n",
    "当执行 z = y.detach() 时，PyTorch 会创建一个新的张量 z\n",
    "z 的底层内存和 y 完全相同，即修改 z 的值会影响 y，反之亦然\n",
    "但是 z 是脱离计算图的\n",
    " 1. z 的 requires_grad 属性被设置为 False\n",
    " 2. z 没有任何梯度函数\n",
    " 3. PyTorch 不知道 z 是怎么计算的来的\n",
    "即梯度将无法通过 z 反向传播到 x 和 y\n",
    "```"
   ],
   "id": "c6d37ce2da99cc47"
  },
  {
   "metadata": {
    "ExecuteTime": {
     "end_time": "2025-10-23T13:57:49.788242Z",
     "start_time": "2025-10-23T13:57:49.771244Z"
    }
   },
   "cell_type": "code",
   "source": [
    "x.grad.zero_()\n",
    "y = x * x\n",
    "u = y.detach()\n",
    "z = u * x\n",
    "z.sum().backward()\n",
    "x.grad == u"
   ],
   "id": "df3c391133f85bb6",
   "outputs": [
    {
     "data": {
      "text/plain": [
       "tensor([True, True, True, True])"
      ]
     },
     "execution_count": 8,
     "metadata": {},
     "output_type": "execute_result"
    }
   ],
   "execution_count": 8
  },
  {
   "metadata": {
    "ExecuteTime": {
     "end_time": "2025-10-23T13:58:46.855884Z",
     "start_time": "2025-10-23T13:58:46.850484Z"
    }
   },
   "cell_type": "code",
   "source": [
    "x.grad.zero_()\n",
    "y.sum().backward()\n",
    "x.grad == 2 * x"
   ],
   "id": "bac5bfff8bbdd031",
   "outputs": [
    {
     "data": {
      "text/plain": [
       "tensor([True, True, True, True])"
      ]
     },
     "execution_count": 9,
     "metadata": {},
     "output_type": "execute_result"
    }
   ],
   "execution_count": 9
  },
  {
   "metadata": {
    "ExecuteTime": {
     "end_time": "2025-10-23T14:10:51.573038Z",
     "start_time": "2025-10-23T14:10:51.562556Z"
    }
   },
   "cell_type": "code",
   "source": [
    "# 对复杂的 python 函数求导\n",
    "def f(a):\n",
    "    b = a * 2\n",
    "    while b.norm() < 1000: # norm 函数计算张量的范数，范数是张量元素的平方和再开根号\n",
    "        b = b * 2\n",
    "    if b.sum() > 0:\n",
    "        c = b\n",
    "    else:\n",
    "        c = 100 * b\n",
    "    return c\n",
    "\n",
    "a = torch.randn(size=(), requires_grad=True) # 创建一个标量张量, size=() 表示0维，即标量\n",
    "a\n",
    "d = f(a)\n",
    "d.backward()\n",
    "print(a.grad)\n",
    "print(a.grad == d / a)\n",
    "a.grad.zero_()"
   ],
   "id": "3c6de0b19cd1c41f",
   "outputs": [
    {
     "name": "stdout",
     "output_type": "stream",
     "text": [
      "tensor(2048.)\n",
      "tensor(True)\n"
     ]
    },
    {
     "data": {
      "text/plain": [
       "tensor(0.)"
      ]
     },
     "execution_count": 19,
     "metadata": {},
     "output_type": "execute_result"
    }
   ],
   "execution_count": 19
  }
 ],
 "metadata": {
  "kernelspec": {
   "display_name": "Python 3",
   "language": "python",
   "name": "python3"
  },
  "language_info": {
   "codemirror_mode": {
    "name": "ipython",
    "version": 2
   },
   "file_extension": ".py",
   "mimetype": "text/x-python",
   "name": "python",
   "nbconvert_exporter": "python",
   "pygments_lexer": "ipython2",
   "version": "2.7.6"
  }
 },
 "nbformat": 4,
 "nbformat_minor": 5
}
